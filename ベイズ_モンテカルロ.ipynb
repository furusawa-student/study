{
 "cells": [
  {
   "cell_type": "code",
   "execution_count": 2,
   "metadata": {},
   "outputs": [],
   "source": [
    "import numpy as np\n",
    "import pandas as pd \n",
    "import matplotlib.pyplot as plt\n",
    "from ipywidgets import interact\n",
    "%matplotlib inline"
   ]
  },
  {
   "cell_type": "code",
   "execution_count": 3,
   "metadata": {},
   "outputs": [],
   "source": [
    "plt.style.use(\"ggplot\")\n",
    "np.random.seed(123)#シード値：乱数を生成する種のこと。これが同じだと同じ乱数が発生"
   ]
  },
  {
   "cell_type": "code",
   "execution_count": 4,
   "metadata": {},
   "outputs": [
    {
     "name": "stdout",
     "output_type": "stream",
     "text": [
      "0.82\n"
     ]
    }
   ],
   "source": [
    "#モンテカルロ法でπの近似値を導く\n",
    "NMC = 100\n",
    "xmc=np.random.rand(NMC)#引数の数だけ０～１の乱数を生成する.それをarrayで出力\n",
    "ymc=np.random.rand(NMC)\n",
    "r=(xmc**2+ymc**2)**0.5\n",
    "accept= np.where(r<1,1,0)#np.where:判別式(条件式、TRUE値、FALSE値)\n",
    "accept_ratio=np.sum(accept)/NMC\n",
    "print(accept_ratio)"
   ]
  },
  {
   "cell_type": "code",
   "execution_count": 5,
   "metadata": {},
   "outputs": [
    {
     "data": {
      "application/vnd.jupyter.widget-view+json": {
       "model_id": "94be2168e0d04a808b8a0a27879fda6b",
       "version_major": 2,
       "version_minor": 0
      },
      "text/plain": [
       "interactive(children=(IntSlider(value=0, description='mcs', max=2000), Output()), _dom_classes=('widget-intera…"
      ]
     },
     "metadata": {},
     "output_type": "display_data"
    }
   ],
   "source": [
    "#モンテカルロ法において実際に円に点がプロットされている様子を視覚的に表現する\n",
    "NMC = 2000\n",
    "xmc=np.random.rand(NMC)#引数の数だけ０～１の乱数を生成する.それをarrayで出力\n",
    "ymc=np.random.rand(NMC)\n",
    "@interact(mcs=(0,NMC,1))#モンテカルロステップを踏むにつれてごう変化するか、その横軸の設定０～NMCまでを1刻み\n",
    "def animation(mcs=0):\n",
    "    plt.figure(figsize=(6,6))#表示する図の大きさ\n",
    "    plt.xlim([0,1])\n",
    "    plt.ylim([0,1])\n",
    "    x=np.arange(0,1,0.001)#連番、等差数列を作成する、０～１を0.001刻みで\n",
    "    y=(1-x**2)**0.5\n",
    "    y2=np.ones(x.shape[0])#x.shapeが（作られた数、１）なので結局作られたｘの数だけ１を作る、arrayで出力\n",
    "    plt.plot(x,y)\n",
    "    plt.fill_between(x,y,alpha=0.3)#領域に色を塗る\n",
    "    plt.fill_between(x,y,y2,alpha=0.3)#領域に色を塗る\n",
    "    r=(xmc[:mcs]**2+ymc[:mcs]**2)**0.5\n",
    "    accept= np.where(r<1,1,0)#np.where:判別式(条件式、TRUE値、FALSE値)\n",
    "    accept_ratio=np.sum(accept)/mcs\n",
    "    plt.scatter(xmc[:mcs],ymc[:mcs],color=\"black\",marker=\".\")\n",
    "    plt.show\n",
    "    print(\"Monte Carlo:\",accept_ratio)\n",
    "    print(\"Analytical Solution:\",np.pi/4.0)"
   ]
  },
  {
   "cell_type": "code",
   "execution_count": 6,
   "metadata": {},
   "outputs": [],
   "source": [
    "pi_mcs=[]\n",
    "NMC = 2000\n",
    "xmc=np.random.rand(NMC)\n",
    "ymc=np.random.rand(NMC)\n",
    "for mcs in range(1,NMC):\n",
    "    r=(xmc[:mcs]**2+ymc[:mcs]**2)**0.5\n",
    "    accept=np.where(r<1,1,0)\n",
    "    accept_ratio=np.sum(accept)/mcs\n",
    "    pi_mcs.append(accept_ratio)"
   ]
  },
  {
   "cell_type": "code",
   "execution_count": 7,
   "metadata": {},
   "outputs": [],
   "source": [
    "pi_x=np.arange(len(pi_mcs))+1"
   ]
  },
  {
   "cell_type": "code",
   "execution_count": 8,
   "metadata": {},
   "outputs": [
    {
     "data": {
      "text/plain": [
       "Text(0,0.5,'accept_ratio')"
      ]
     },
     "execution_count": 8,
     "metadata": {},
     "output_type": "execute_result"
    },
    {
     "data": {
      "image/png": "[encoded data removed]",
      "text/plain": [
       "<Figure size 432x288 with 1 Axes>"
      ]
     },
     "metadata": {},
     "output_type": "display_data"
    }
   ],
   "source": [
    "plt.plot(pi_x,pi_mcs)\n",
    "plt.hlines(0.785,pi_x[0],pi_x[-1],linestyle=\"dashed\")\n",
    "plt.xlabel(\"MCS\")\n",
    "plt.ylabel(\"accept_ratio\")"
   ]
  },
  {
   "cell_type": "code",
   "execution_count": null,
   "metadata": {},
   "outputs": [],
   "source": []
  }
 ],
 "metadata": {
  "kernelspec": {
   "display_name": "Python 3",
   "language": "python",
   "name": "python3"
  },
  "language_info": {
   "codemirror_mode": {
    "name": "ipython",
    "version": 3
   },
   "file_extension": ".py",
   "mimetype": "text/x-python",
   "name": "python",
   "nbconvert_exporter": "python",
   "pygments_lexer": "ipython3",
   "version": "3.7.1"
  }
 },
 "nbformat": 4,
 "nbformat_minor": 2
}
