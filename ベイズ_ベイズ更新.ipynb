{
 "cells": [
  {
   "cell_type": "code",
   "execution_count": 2,
   "metadata": {},
   "outputs": [],
   "source": [
    "import matplotlib as plt\n",
    "from scipy.stats import bernoulli#確率分布\n",
    "import numpy as np\n",
    "import pandas as pd\n",
    "%matplotlib inline"
   ]
  },
  {
   "cell_type": "code",
   "execution_count": 3,
   "metadata": {},
   "outputs": [],
   "source": [
    "plt.style.use(\"ggplot\")#グラフのスタイルを変える。今回はggplotといういい感じのスタイル"
   ]
  },
  {
   "cell_type": "code",
   "execution_count": 4,
   "metadata": {},
   "outputs": [],
   "source": [
    "p_a=3/10\n",
    "p_b=5/9\n",
    "p_prior=0.5\n",
    "#0:blue,1:red\n",
    "data=[0,1,0,0,1,1,1]"
   ]
  },
  {
   "cell_type": "code",
   "execution_count": 6,
   "metadata": {},
   "outputs": [],
   "source": [
    "N_data=1\n",
    "likehood_a=bernoulli.pmf(data[:N_data],p_a)\n",
    "likehood_b=bernoulli.pmf(data[:N_data],p_b)"
   ]
  },
  {
   "cell_type": "code",
   "execution_count": 7,
   "metadata": {},
   "outputs": [
    {
     "data": {
      "text/plain": [
       "array([0.7])"
      ]
     },
     "execution_count": 7,
     "metadata": {},
     "output_type": "execute_result"
    }
   ],
   "source": [
    "likehood_a"
   ]
  },
  {
   "cell_type": "code",
   "execution_count": 18,
   "metadata": {},
   "outputs": [
    {
     "data": {
      "text/plain": [
       "([<matplotlib.axis.XTick at 0x1aafdb9e0f0>,\n",
       "  <matplotlib.axis.XTick at 0x1aafdb9ba90>],\n",
       " <a list of 2 Text xticklabel objects>)"
      ]
     },
     "execution_count": 18,
     "metadata": {},
     "output_type": "execute_result"
    },
    {
     "data": {
      "image/png": "[encoded data removed]",
      "text/plain": [
       "<Figure size 432x288 with 1 Axes>"
      ]
     },
     "metadata": {},
     "output_type": "display_data"
    }
   ],
   "source": [
    "pa_posterior=p_prior\n",
    "pb_posterior=p_prior\n",
    "pa_posterior*=np.prod(likehood_a)\n",
    "pb_posterior*=np.prod(likehood_b)\n",
    "norm=pa_posterior+pb_posterior\n",
    "df=pd.DataFrame([pa_posterior/norm,pb_posterior/norm],columns=[\"post\"])\n",
    "x=np.arange(df.shape[0])\n",
    "plt.pyplot.bar(x,df[\"post\"])\n",
    "plt.pyplot.xticks(x,[\"a\",\"b\"])"
   ]
  },
  {
   "cell_type": "code",
   "execution_count": null,
   "metadata": {},
   "outputs": [],
   "source": []
  }
 ],
 "metadata": {
  "kernelspec": {
   "display_name": "Python 3",
   "language": "python",
   "name": "python3"
  },
  "language_info": {
   "codemirror_mode": {
    "name": "ipython",
    "version": 3
   },
   "file_extension": ".py",
   "mimetype": "text/x-python",
   "name": "python",
   "nbconvert_exporter": "python",
   "pygments_lexer": "ipython3",
   "version": "3.6.5"
  }
 },
 "nbformat": 4,
 "nbformat_minor": 2
}
